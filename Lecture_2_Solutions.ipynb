{
  "nbformat": 4,
  "nbformat_minor": 0,
  "metadata": {
    "colab": {
      "provenance": [],
      "collapsed_sections": [
        "5f8aXEyrz3Jr",
        "fRl2wN5i1nN0"
      ],
      "authorship_tag": "ABX9TyOZBvPbH8Za5bIXsGnyk6+5",
      "include_colab_link": true
    },
    "kernelspec": {
      "name": "python3",
      "display_name": "Python 3"
    },
    "language_info": {
      "name": "python"
    }
  },
  "cells": [
    {
      "cell_type": "markdown",
      "metadata": {
        "id": "view-in-github",
        "colab_type": "text"
      },
      "source": [
        "<a href=\"https://colab.research.google.com/github/barkhamathur78/AI4CCEE_Fall_2024/blob/main/Lecture_2_Solutions.ipynb\" target=\"_parent\"><img src=\"https://colab.research.google.com/assets/colab-badge.svg\" alt=\"Open In Colab\"/></a>"
      ]
    },
    {
      "cell_type": "code",
      "execution_count": null,
      "metadata": {
        "colab": {
          "base_uri": "https://localhost:8080/"
        },
        "id": "9cuTN2f3zjj5",
        "outputId": "3e34c0a2-8c6c-4f8d-9c80-67472008522e"
      },
      "outputs": [
        {
          "output_type": "stream",
          "name": "stdout",
          "text": [
            "Mounted at /content/drive\n"
          ]
        }
      ],
      "source": [
        "# prompt: Connect drive\n",
        "\n",
        "from google.colab import drive\n",
        "drive.mount('/content/drive')\n"
      ]
    },
    {
      "cell_type": "markdown",
      "source": [
        "# ***Exercise #2: Hello Colab***\n",
        "\n",
        "\n",
        "\n",
        "\n"
      ],
      "metadata": {
        "id": "5f8aXEyrz3Jr"
      }
    },
    {
      "cell_type": "markdown",
      "source": [
        "Open a code cell and write a simple Python code: print(\"Hello Colab!\")"
      ],
      "metadata": {
        "id": "bxO4LnGY0Pth"
      }
    },
    {
      "cell_type": "code",
      "source": [
        "# 2: print hello colab!\n",
        "\n",
        "print(\"Hello Colab!\")\n"
      ],
      "metadata": {
        "id": "T4boavs60BEp"
      },
      "execution_count": null,
      "outputs": []
    },
    {
      "cell_type": "code",
      "source": [
        "# 4: echo \"hello from the terminal\"\n",
        "\n",
        "!echo \"hello from the terminal\"\n"
      ],
      "metadata": {
        "colab": {
          "base_uri": "https://localhost:8080/"
        },
        "id": "yEREx6vA0mwf",
        "outputId": "ca3947d8-eccb-4d24-d512-4881fbfd2acc"
      },
      "execution_count": null,
      "outputs": [
        {
          "output_type": "stream",
          "name": "stdout",
          "text": [
            "hello from the terminal\n"
          ]
        }
      ]
    },
    {
      "cell_type": "markdown",
      "source": [
        "#Simple Python Script in Google Colab This is a simple Python script that prints `Hello Colab!` to the screen. We also use the terminal to echo the message `Hello from the terminal`.”"
      ],
      "metadata": {
        "id": "8mu07nP30ypK"
      }
    },
    {
      "cell_type": "markdown",
      "source": [
        "# ***Exercise #4 : Debugging Python Code with ChatGPT***"
      ],
      "metadata": {
        "id": "fRl2wN5i1nN0"
      }
    },
    {
      "cell_type": "code",
      "source": [
        "# Incorrect code for Debugging\n",
        "def calculate_average(numbers):\n",
        "    total = sum(numbers)\n",
        "    avg = total / len(number)  # Error: 'number' instead of 'numbers'\n",
        "    return avg\n",
        "numbers = [10, 20, 30, 40]\n",
        "print(\"The average is:\", calculate_average(numbers))\n"
      ],
      "metadata": {
        "colab": {
          "base_uri": "https://localhost:8080/",
          "height": 297
        },
        "id": "FwOciles1rXD",
        "outputId": "70372842-68b2-44f6-e443-1926a34bb6be"
      },
      "execution_count": null,
      "outputs": [
        {
          "output_type": "error",
          "ename": "NameError",
          "evalue": "name 'number' is not defined",
          "traceback": [
            "\u001b[0;31m---------------------------------------------------------------------------\u001b[0m",
            "\u001b[0;31mNameError\u001b[0m                                 Traceback (most recent call last)",
            "\u001b[0;32m<ipython-input-3-84b1f0a8e8bf>\u001b[0m in \u001b[0;36m<cell line: 0>\u001b[0;34m()\u001b[0m\n\u001b[1;32m      4\u001b[0m     \u001b[0;32mreturn\u001b[0m \u001b[0mavg\u001b[0m\u001b[0;34m\u001b[0m\u001b[0;34m\u001b[0m\u001b[0m\n\u001b[1;32m      5\u001b[0m \u001b[0mnumbers\u001b[0m \u001b[0;34m=\u001b[0m \u001b[0;34m[\u001b[0m\u001b[0;36m10\u001b[0m\u001b[0;34m,\u001b[0m \u001b[0;36m20\u001b[0m\u001b[0;34m,\u001b[0m \u001b[0;36m30\u001b[0m\u001b[0;34m,\u001b[0m \u001b[0;36m40\u001b[0m\u001b[0;34m]\u001b[0m\u001b[0;34m\u001b[0m\u001b[0;34m\u001b[0m\u001b[0m\n\u001b[0;32m----> 6\u001b[0;31m \u001b[0mprint\u001b[0m\u001b[0;34m(\u001b[0m\u001b[0;34m\"The average is:\"\u001b[0m\u001b[0;34m,\u001b[0m \u001b[0mcalculate_average\u001b[0m\u001b[0;34m(\u001b[0m\u001b[0mnumbers\u001b[0m\u001b[0;34m)\u001b[0m\u001b[0;34m)\u001b[0m\u001b[0;34m\u001b[0m\u001b[0;34m\u001b[0m\u001b[0m\n\u001b[0m",
            "\u001b[0;32m<ipython-input-3-84b1f0a8e8bf>\u001b[0m in \u001b[0;36mcalculate_average\u001b[0;34m(numbers)\u001b[0m\n\u001b[1;32m      1\u001b[0m \u001b[0;32mdef\u001b[0m \u001b[0mcalculate_average\u001b[0m\u001b[0;34m(\u001b[0m\u001b[0mnumbers\u001b[0m\u001b[0;34m)\u001b[0m\u001b[0;34m:\u001b[0m\u001b[0;34m\u001b[0m\u001b[0;34m\u001b[0m\u001b[0m\n\u001b[1;32m      2\u001b[0m     \u001b[0mtotal\u001b[0m \u001b[0;34m=\u001b[0m \u001b[0msum\u001b[0m\u001b[0;34m(\u001b[0m\u001b[0mnumbers\u001b[0m\u001b[0;34m)\u001b[0m\u001b[0;34m\u001b[0m\u001b[0;34m\u001b[0m\u001b[0m\n\u001b[0;32m----> 3\u001b[0;31m     \u001b[0mavg\u001b[0m \u001b[0;34m=\u001b[0m \u001b[0mtotal\u001b[0m \u001b[0;34m/\u001b[0m \u001b[0mlen\u001b[0m\u001b[0;34m(\u001b[0m\u001b[0mnumber\u001b[0m\u001b[0;34m)\u001b[0m  \u001b[0;31m# Error: 'number' instead of 'numbers'\u001b[0m\u001b[0;34m\u001b[0m\u001b[0;34m\u001b[0m\u001b[0m\n\u001b[0m\u001b[1;32m      4\u001b[0m     \u001b[0;32mreturn\u001b[0m \u001b[0mavg\u001b[0m\u001b[0;34m\u001b[0m\u001b[0;34m\u001b[0m\u001b[0m\n\u001b[1;32m      5\u001b[0m \u001b[0mnumbers\u001b[0m \u001b[0;34m=\u001b[0m \u001b[0;34m[\u001b[0m\u001b[0;36m10\u001b[0m\u001b[0;34m,\u001b[0m \u001b[0;36m20\u001b[0m\u001b[0;34m,\u001b[0m \u001b[0;36m30\u001b[0m\u001b[0;34m,\u001b[0m \u001b[0;36m40\u001b[0m\u001b[0;34m]\u001b[0m\u001b[0;34m\u001b[0m\u001b[0;34m\u001b[0m\u001b[0m\n",
            "\u001b[0;31mNameError\u001b[0m: name 'number' is not defined"
          ]
        }
      ]
    },
    {
      "cell_type": "code",
      "source": [
        "# Corrected code after Debugging\n",
        "def calculate_average(numbers):\n",
        "    total = sum(numbers)\n",
        "    avg = total / len(numbers)  # Changed 'number' to 'numbers'\n",
        "    return avg\n",
        "numbers = [10, 20, 30, 40]\n",
        "print(\"The average is:\", calculate_average(numbers))"
      ],
      "metadata": {
        "colab": {
          "base_uri": "https://localhost:8080/"
        },
        "id": "vFDxo7Ff2D80",
        "outputId": "32a0f969-6a3b-4219-9133-736626d9e617"
      },
      "execution_count": null,
      "outputs": [
        {
          "output_type": "stream",
          "name": "stdout",
          "text": [
            "The average is: 25.0\n"
          ]
        }
      ]
    },
    {
      "cell_type": "markdown",
      "source": [
        "# ***Exercise #5 : Linux and Magic Commands for File Management***\n"
      ],
      "metadata": {
        "id": "A0Un2EmT2U7b"
      }
    },
    {
      "cell_type": "code",
      "source": [
        "# Change directory to /content (default directory in Colab)\n",
        "%cd /content\n",
        "\n",
        "# Create a new directory named 'test_directory'\n",
        "!mkdir test_directory\n",
        "\n",
        "# Navigate into the directory\n",
        "%cd test_directory\n",
        "\n",
        "# Create 5 new files and add text to each\n",
        "!echo \"This is a test file 1\" > file1.txt\n",
        "!echo \"This is a test file 2\" > file2.txt\n",
        "!echo \"This is a test file 3\" > file3.txt\n",
        "!echo \"This is a test file 4\" > file4.txt\n",
        "!echo \"This is a test file 5\" > file5.txt\n",
        "\n",
        "# Concatenate all five files into one file called 'combined_file.txt'\n",
        "!cat file1.txt file2.txt file3.txt file4.txt file5.txt > combined_file.txt\n",
        "\n",
        "# Rename the concatenated file to 'Joined_file'\n",
        "!mv combined_file.txt Joined_file.txt\n",
        "\n",
        "# List files to confirm rename\n",
        "!ls -l\n",
        "\n",
        "# Print the current path\n",
        "!pwd\n",
        "\n",
        "# Copy the file to a new file called 'New_file'\n",
        "!cp Joined_file.txt New_file.txt\n",
        "\n",
        "# Move 'New_file' to the parent directory\n",
        "!mv New_file.txt ..\n",
        "\n",
        "# Display the contents of 'Joined_file'\n",
        "!cat Joined_file.txt\n",
        "\n",
        "# Remove all individual files\n",
        "!rm file1.txt file2.txt file3.txt file4.txt file5.txt Joined_file.txt\n",
        "! rm /content/New_file.txt\n",
        "# Navigate back to parent directory\n",
        "%cd ..\n",
        "\n",
        "# Remove the test_directory\n",
        "!rmdir test_directory\n"
      ],
      "metadata": {
        "colab": {
          "base_uri": "https://localhost:8080/"
        },
        "id": "Wefix9Zb6qtl",
        "outputId": "331f97b2-5f36-45a8-8998-389f9ca787cc"
      },
      "execution_count": null,
      "outputs": [
        {
          "output_type": "stream",
          "name": "stdout",
          "text": [
            "/content\n"
          ]
        }
      ]
    },
    {
      "cell_type": "markdown",
      "source": [],
      "metadata": {
        "id": "gtr3PqURTNvC"
      }
    },
    {
      "cell_type": "code",
      "source": [
        "%%shell\n",
        "for i in {1..5}; do echo \"$(head -c $i < /dev/zero | tr '\\0' '*')\"; done\n"
      ],
      "metadata": {
        "colab": {
          "base_uri": "https://localhost:8080/"
        },
        "id": "AKdqRLO3TOiS",
        "outputId": "c0c0e6b5-1943-4c20-a937-eb6f7dc8657a"
      },
      "execution_count": 6,
      "outputs": [
        {
          "output_type": "stream",
          "name": "stdout",
          "text": [
            "*\n",
            "**\n",
            "***\n",
            "****\n",
            "*****\n"
          ]
        },
        {
          "output_type": "execute_result",
          "data": {
            "text/plain": []
          },
          "metadata": {},
          "execution_count": 6
        }
      ]
    }
  ]
}